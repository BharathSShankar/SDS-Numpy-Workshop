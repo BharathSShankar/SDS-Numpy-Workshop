{
 "cells": [
  {
   "cell_type": "markdown",
   "id": "4d65a732",
   "metadata": {
    "slideshow": {
     "slide_type": "slide"
    }
   },
   "source": [
    "### Numpy\n",
    "1. Short for **num**erical **py**thon\n",
    "2. Introduces many useful mathematical functions, such as rng, linalg, Fourier transforms, and so much more!\n",
    "3. Provides a powerful new data structure: the **ndarray**\n",
    "4. Faster than native python!\n",
    "\n",
    "So, let's get started!"
   ]
  },
  {
   "cell_type": "code",
   "execution_count": 1,
   "id": "e4e2a534",
   "metadata": {
    "slideshow": {
     "slide_type": "subslide"
    }
   },
   "outputs": [
    {
     "name": "stdout",
     "output_type": "stream",
     "text": [
      "Installed version of numpy: 1.20.2\n"
     ]
    }
   ],
   "source": [
    "import numpy as np\n",
    "print(f\"Installed version of numpy: {np.__version__}\")  "
   ]
  },
  {
   "cell_type": "markdown",
   "id": "3dedd3d0",
   "metadata": {
    "slideshow": {
     "slide_type": "slide"
    }
   },
   "source": [
    "### Arrays\n",
    "\n",
    "1. Acts similar(ish) to a list\n",
    "2. Allows for fast operations, and occupies less memory than a list!\n",
    "3. Actual name: the ndarray - N Dimensional Array\n",
    "\n",
    "Let's start by making our first array!"
   ]
  },
  {
   "cell_type": "code",
   "execution_count": 2,
   "id": "2891fe3a",
   "metadata": {
    "slideshow": {
     "slide_type": "subslide"
    }
   },
   "outputs": [
    {
     "name": "stdout",
     "output_type": "stream",
     "text": [
      "<class 'numpy.ndarray'>\n"
     ]
    }
   ],
   "source": [
    "arr = np.array([1,2,3,4,5])\n",
    "print(type(arr))"
   ]
  },
  {
   "cell_type": "code",
   "execution_count": 3,
   "id": "8828660b",
   "metadata": {
    "slideshow": {
     "slide_type": "-"
    }
   },
   "outputs": [
    {
     "name": "stdout",
     "output_type": "stream",
     "text": [
      "<class 'numpy.ndarray'>\n"
     ]
    }
   ],
   "source": [
    "# You can create one from a tuple too!\n",
    "arr_tup = np.array((1,2,3,4,5))\n",
    "print(type(arr_tup))"
   ]
  },
  {
   "cell_type": "markdown",
   "id": "6c1232b6",
   "metadata": {
    "slideshow": {
     "slide_type": "slide"
    }
   },
   "source": [
    "### Putting the n-d in ndarray\n",
    "Arrays allow for the easy creation of n-dimensional lists of objects. This means that they allow for easy representation of vectors, matrices, and tensors, all of which have uses in machine learning, as well as many other areas of scientific computing (particularly for physicists). \n",
    "\n",
    "Here are a few examples: "
   ]
  },
  {
   "cell_type": "code",
   "execution_count": 4,
   "id": "da985689",
   "metadata": {
    "slideshow": {
     "slide_type": "subslide"
    }
   },
   "outputs": [
    {
     "name": "stdout",
     "output_type": "stream",
     "text": [
      "2D array from list [[1 2 3]\n",
      " [4 5 6]]\n"
     ]
    }
   ],
   "source": [
    "# Create a 2D array of size 2*3 \n",
    "arr_2d = np.array([[1,2,3], [4,5,6]])\n",
    "print(f\"2D array from list {arr_2d}\")"
   ]
  },
  {
   "cell_type": "code",
   "execution_count": 5,
   "id": "e109dad1",
   "metadata": {},
   "outputs": [
    {
     "name": "stdout",
     "output_type": "stream",
     "text": [
      "2D array of zeroes [[0. 0. 0.]\n",
      " [0. 0. 0.]\n",
      " [0. 0. 0.]\n",
      " [0. 0. 0.]]\n"
     ]
    }
   ],
   "source": [
    "# Create an array of zeroes of specified shape - (Specified in a tuple): \n",
    "arr_2d_zeros = np.zeros((4,3))\n",
    "print(f\"2D array of zeroes {arr_2d_zeros}\")"
   ]
  },
  {
   "cell_type": "code",
   "execution_count": 6,
   "id": "06273862",
   "metadata": {},
   "outputs": [
    {
     "name": "stdout",
     "output_type": "stream",
     "text": [
      "2D array of ones [[1. 1. 1. 1.]\n",
      " [1. 1. 1. 1.]]\n"
     ]
    }
   ],
   "source": [
    "# Create an array of ones of specified shape - (Specified in a tuple): \n",
    "arr_2d_ones = np.ones((2,4))\n",
    "print(f\"2D array of ones {arr_2d_ones}\")"
   ]
  },
  {
   "cell_type": "code",
   "execution_count": 7,
   "id": "3d5fdb24",
   "metadata": {
    "slideshow": {
     "slide_type": "subslide"
    }
   },
   "outputs": [
    {
     "name": "stdout",
     "output_type": "stream",
     "text": [
      "3D array: [[[0. 0. 0. 0.]\n",
      "  [0. 0. 0. 0.]\n",
      "  [0. 0. 0. 0.]]\n",
      "\n",
      " [[0. 0. 0. 0.]\n",
      "  [0. 0. 0. 0.]\n",
      "  [0. 0. 0. 0.]]]\n"
     ]
    }
   ],
   "source": [
    "#Let's make a 3D array!\n",
    "arr_3d = np.zeros((2,3,4))\n",
    "print(f\"3D array: {arr_3d}\")"
   ]
  },
  {
   "cell_type": "code",
   "execution_count": 8,
   "id": "feaa8af8",
   "metadata": {},
   "outputs": [
    {
     "name": "stdout",
     "output_type": "stream",
     "text": [
      "3\n"
     ]
    }
   ],
   "source": [
    "# We even have 0D arrays!\n",
    "arr_0d = np.array(3)\n",
    "print(arr_0d)"
   ]
  },
  {
   "cell_type": "markdown",
   "id": "7ef7f457",
   "metadata": {
    "slideshow": {
     "slide_type": "slide"
    }
   },
   "source": [
    "### Slice n' Index!\n",
    "1. For 1D arrays, we can index and slice similar to python lists. \n",
    "2. For 2D and higher dimensional arrays, we simply state the slices/indices we want, separated by commas.|"
   ]
  },
  {
   "cell_type": "code",
   "execution_count": null,
   "id": "cbbbac99",
   "metadata": {
    "slideshow": {
     "slide_type": "subslide"
    }
   },
   "outputs": [],
   "source": [
    "# Get first 3 elements of 1D array\n",
    "print(arr[:3])"
   ]
  },
  {
   "cell_type": "code",
   "execution_count": null,
   "id": "184f2218",
   "metadata": {},
   "outputs": [],
   "source": [
    "# Get first row and second and third colums from arr_2d\n",
    "print(arr_2d[0, 1:3])"
   ]
  },
  {
   "cell_type": "code",
   "execution_count": null,
   "id": "805df361",
   "metadata": {},
   "outputs": [],
   "source": [
    "# Change out multiple entries!\n",
    "arr_3d[1,1,:] =[1,2,4,5]\n",
    "print(arr_3d)"
   ]
  },
  {
   "cell_type": "markdown",
   "id": "aace084b",
   "metadata": {
    "slideshow": {
     "slide_type": "slide"
    }
   },
   "source": [
    "### Array properties - broadcasting\n",
    "A key feature of arrays is their ability to broadcast operations - that is, to carry out an operation over every element in the array!\n",
    "This is much faster than simply looping through a list and doing the same operation. \n",
    "Let us first look at an example of array broadcast, and compare it to a list!\n",
    "\n",
    "NOTE: ARRAY BROADCASTING ONLY WORKS WITH ARRAYS OF COMPATIBLE SIZES"
   ]
  },
  {
   "cell_type": "code",
   "execution_count": 9,
   "id": "6bbb7eec",
   "metadata": {
    "slideshow": {
     "slide_type": "subslide"
    }
   },
   "outputs": [
    {
     "name": "stdout",
     "output_type": "stream",
     "text": [
      "702 ns ± 0.478 ns per loop (mean ± std. dev. of 7 runs, 1000000 loops each)\n"
     ]
    }
   ],
   "source": [
    "def list_adding_time(list1,list2):\n",
    "    out = []\n",
    "    for i in range(len(list1)):\n",
    "        out.append(list1[i] + list2[i])\n",
    "    return out\n",
    "list1 = [1,2,3,4,5]\n",
    "list2 = [6,7,8,9,10]\n",
    "%timeit list_adding_time(list1,list2)"
   ]
  },
  {
   "cell_type": "code",
   "execution_count": 10,
   "id": "30590cc4",
   "metadata": {},
   "outputs": [
    {
     "name": "stdout",
     "output_type": "stream",
     "text": [
      "354 ns ± 1.11 ns per loop (mean ± std. dev. of 7 runs, 1000000 loops each)\n"
     ]
    }
   ],
   "source": [
    "def arr_broadcast_time(arr1, arr2):\n",
    "    return arr1 + arr2\n",
    "arr1 = np.array([1,2,3,4,5])\n",
    "arr2 = np.array([6,7,8,9,10])\n",
    "%timeit arr_broadcast_time(arr1, arr2)"
   ]
  },
  {
   "cell_type": "markdown",
   "id": "8541e972",
   "metadata": {
    "slideshow": {
     "slide_type": "subslide"
    }
   },
   "source": [
    "#### No free lunch!\n",
    "There is a price that we must pay for this speed. There are 2 restrictions on numpy arrays:\n",
    "1. All elements must be of the same type\n",
    "2. Arrays cannot be resized\n",
    "\n",
    "These restrictions stem from how numpy arrays get their speed: \n",
    "1. Arrays are stored in contiguous areas in memory\n",
    "2. Numpy is written in C, and thus the functions of numpy benefit from being processed close to the metal"
   ]
  },
  {
   "cell_type": "markdown",
   "id": "bcea8b00",
   "metadata": {
    "slideshow": {
     "slide_type": "slide"
    }
   },
   "source": [
    "### Useful functions in Numpy: \n",
    "Numpy has a lot of functions for general utility as well! Let us examine a few of them!"
   ]
  },
  {
   "cell_type": "code",
   "execution_count": null,
   "id": "f301f460",
   "metadata": {
    "slideshow": {
     "slide_type": "subslide"
    }
   },
   "outputs": [],
   "source": [
    "# Find the mean of an array:\n",
    "print(np.mean(arr))"
   ]
  },
  {
   "cell_type": "code",
   "execution_count": null,
   "id": "de87f3e7",
   "metadata": {},
   "outputs": [],
   "source": [
    "# Find standard deviation of values in an array \n",
    "print(np.std(arr))"
   ]
  },
  {
   "cell_type": "code",
   "execution_count": null,
   "id": "81c41155",
   "metadata": {},
   "outputs": [],
   "source": [
    "# arange - return list of numbers given a step size between a start and an endpoint\n",
    "print(np.arange(2, 3, step = 0.09))\n",
    "# linspace : return a certain number of evenly spaced points between 2 numbers\n",
    "print(np.linspace(2, 3, num = 6))"
   ]
  },
  {
   "cell_type": "markdown",
   "id": "9422ad80",
   "metadata": {
    "slideshow": {
     "slide_type": "slide"
    }
   },
   "source": [
    "### Linear Algebra \n",
    "Numpy offers support for many linear algebra functions, which is significant for machine learning as well as in other fields, like physics, engineering, and mathematics!\n",
    "\n",
    "By the way, the inbuilt matrix object in numpy is deprecated. We will instead show how numpy arrays can be used in matrix computations."
   ]
  },
  {
   "cell_type": "code",
   "execution_count": null,
   "id": "fa0c9cdf",
   "metadata": {
    "slideshow": {
     "slide_type": "subslide"
    }
   },
   "outputs": [],
   "source": [
    "#Create 3 Matrices and 2 vectors - \n",
    "mat_A = np.array([[1,2,3], [4,5,6], [7,8,9]])\n",
    "mat_B = np.array([[1,4,9], [2,5,8]])\n",
    "mat_C = np.array([[1,0, 5], [2,4,7] , [8, 9, 3]])\n",
    "vec_D = np.array([[1], [2],[3]])\n",
    "vec_E = np.array([[3 , 8, 7]])"
   ]
  },
  {
   "cell_type": "markdown",
   "id": "acd23c75",
   "metadata": {
    "slideshow": {
     "slide_type": "slide"
    }
   },
   "source": [
    "### Basic Operations\n",
    "Numpy supports all basic matrix operations, including addition, inner products, matrix multiplication. It also supports many advanced operations as well! For now, we will go through some of them!"
   ]
  },
  {
   "cell_type": "code",
   "execution_count": null,
   "id": "3e4fec13",
   "metadata": {
    "slideshow": {
     "slide_type": "subslide"
    }
   },
   "outputs": [],
   "source": [
    "# Addition\n",
    "print(mat_A + mat_C)"
   ]
  },
  {
   "cell_type": "code",
   "execution_count": null,
   "id": "5dcfd2a5",
   "metadata": {},
   "outputs": [],
   "source": [
    "# Matrix multiplication\n",
    "print(mat_B @ mat_A)"
   ]
  },
  {
   "cell_type": "code",
   "execution_count": null,
   "id": "69bfbff5",
   "metadata": {},
   "outputs": [],
   "source": [
    "# Note - * is elementwise multiplication, NOT matrix multiplication!\n",
    "print(mat_A * mat_C)\n",
    "print(mat_A @ mat_C)"
   ]
  },
  {
   "cell_type": "code",
   "execution_count": null,
   "id": "43295d9f",
   "metadata": {},
   "outputs": [],
   "source": [
    "# Matrix times a vector\n",
    "print(mat_B @ vec_D)"
   ]
  },
  {
   "cell_type": "code",
   "execution_count": null,
   "id": "b2fcb9da",
   "metadata": {
    "slideshow": {
     "slide_type": "subslide"
    }
   },
   "outputs": [],
   "source": [
    "# Take transpose of matrix\n",
    "print(np.transpose(mat_B))"
   ]
  },
  {
   "cell_type": "code",
   "execution_count": null,
   "id": "cfd11277",
   "metadata": {},
   "outputs": [],
   "source": [
    "# Get dot product \n",
    "print(np.dot(vec_E, vec_D))"
   ]
  },
  {
   "cell_type": "code",
   "execution_count": null,
   "id": "cf644966",
   "metadata": {
    "slideshow": {
     "slide_type": "subslide"
    }
   },
   "outputs": [],
   "source": [
    "# Get norm of a vector\n",
    "print(np.linalg.norm(vec_D))"
   ]
  },
  {
   "cell_type": "code",
   "execution_count": null,
   "id": "704c495f",
   "metadata": {},
   "outputs": [],
   "source": [
    "# Get eigenvalues and eigenvectors for a matrix\n",
    "print(np.linalg.eig(mat_A))"
   ]
  },
  {
   "cell_type": "code",
   "execution_count": null,
   "id": "63d3b97b",
   "metadata": {},
   "outputs": [],
   "source": []
  }
 ],
 "metadata": {
  "celltoolbar": "Slideshow",
  "kernelspec": {
   "display_name": "Python 3",
   "language": "python",
   "name": "python3"
  },
  "language_info": {
   "codemirror_mode": {
    "name": "ipython",
    "version": 3
   },
   "file_extension": ".py",
   "mimetype": "text/x-python",
   "name": "python",
   "nbconvert_exporter": "python",
   "pygments_lexer": "ipython3",
   "version": "3.8.2"
  }
 },
 "nbformat": 4,
 "nbformat_minor": 5
}
